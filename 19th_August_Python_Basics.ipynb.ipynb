{
 "cells": [
  {
   "cell_type": "code",
   "execution_count": 1,
   "id": "33558e51-fe40-43ba-9a35-4efda86c707e",
   "metadata": {},
   "outputs": [
    {
     "data": {
      "text/plain": [
       "'1. Declare two variables, `x` and `y`, and assign them integer values. Swap the values of these variables without using any temporary variable.'"
      ]
     },
     "execution_count": 1,
     "metadata": {},
     "output_type": "execute_result"
    }
   ],
   "source": [
    "'''1. Declare two variables, `x` and `y`, and assign them integer values. Swap the values of these variables without using any temporary variable.'''"
   ]
  },
  {
   "cell_type": "code",
   "execution_count": 2,
   "id": "ddd581c5-e71f-4e68-a1ee-856ef5b18008",
   "metadata": {},
   "outputs": [],
   "source": [
    "x= 6\n",
    "y= 8"
   ]
  },
  {
   "cell_type": "code",
   "execution_count": 3,
   "id": "0476f873-d65a-42d8-b88f-8e6fa804a832",
   "metadata": {},
   "outputs": [
    {
     "data": {
      "text/plain": [
       "(6, 8)"
      ]
     },
     "execution_count": 3,
     "metadata": {},
     "output_type": "execute_result"
    }
   ],
   "source": [
    "x,y"
   ]
  },
  {
   "cell_type": "code",
   "execution_count": 4,
   "id": "e4e5aba0-564a-42e1-9f56-fbdda38b3834",
   "metadata": {},
   "outputs": [],
   "source": [
    "x= x+y"
   ]
  },
  {
   "cell_type": "code",
   "execution_count": 5,
   "id": "a388fc3c-9e50-4c84-9b76-5ee87d6fb6c6",
   "metadata": {},
   "outputs": [
    {
     "data": {
      "text/plain": [
       "14"
      ]
     },
     "execution_count": 5,
     "metadata": {},
     "output_type": "execute_result"
    }
   ],
   "source": [
    "x"
   ]
  },
  {
   "cell_type": "code",
   "execution_count": 6,
   "id": "a1be1bc9-9437-4d43-9ec1-38de4407a6ec",
   "metadata": {},
   "outputs": [],
   "source": [
    "y=x-y"
   ]
  },
  {
   "cell_type": "code",
   "execution_count": 7,
   "id": "d081a597-2302-4d9c-b552-ba49e27b5fc0",
   "metadata": {},
   "outputs": [
    {
     "data": {
      "text/plain": [
       "6"
      ]
     },
     "execution_count": 7,
     "metadata": {},
     "output_type": "execute_result"
    }
   ],
   "source": [
    "y"
   ]
  },
  {
   "cell_type": "code",
   "execution_count": 8,
   "id": "db9d0ce8-b6af-4a70-9538-f36aa01ba522",
   "metadata": {},
   "outputs": [],
   "source": [
    "x=x-y"
   ]
  },
  {
   "cell_type": "code",
   "execution_count": 9,
   "id": "f640f045-883f-4b8f-8af4-d4b1277a9552",
   "metadata": {},
   "outputs": [
    {
     "data": {
      "text/plain": [
       "(8, 6)"
      ]
     },
     "execution_count": 9,
     "metadata": {},
     "output_type": "execute_result"
    }
   ],
   "source": [
    "x,y"
   ]
  },
  {
   "cell_type": "code",
   "execution_count": 10,
   "id": "b817370b-48d6-459a-9f5f-3183a3e7d9a7",
   "metadata": {},
   "outputs": [
    {
     "name": "stdout",
     "output_type": "stream",
     "text": [
      "20 10\n"
     ]
    }
   ],
   "source": [
    "x= 10\n",
    "y= 20\n",
    "\n",
    "temp= x\n",
    "x= y\n",
    "y = temp\n",
    "\n",
    "print(f'{x} {y}')"
   ]
  },
  {
   "cell_type": "code",
   "execution_count": 11,
   "id": "9343e2e2-92de-4f46-9333-dd10b64094d4",
   "metadata": {},
   "outputs": [
    {
     "data": {
      "text/plain": [
       "(20, 10)"
      ]
     },
     "execution_count": 11,
     "metadata": {},
     "output_type": "execute_result"
    }
   ],
   "source": [
    "x,y"
   ]
  },
  {
   "cell_type": "code",
   "execution_count": 12,
   "id": "ae658e5a-021a-4f58-a5ab-dc3160f92db9",
   "metadata": {},
   "outputs": [
    {
     "data": {
      "text/plain": [
       "'2. Create a program that calculates the area of a rectangle. Take the length and\\nwidth as inputs from the user and store them in variables. Calculate and\\ndisplay the area.'"
      ]
     },
     "execution_count": 12,
     "metadata": {},
     "output_type": "execute_result"
    }
   ],
   "source": [
    "'''2. Create a program that calculates the area of a rectangle. Take the length and\n",
    "width as inputs from the user and store them in variables. Calculate and\n",
    "display the area.'''"
   ]
  },
  {
   "cell_type": "code",
   "execution_count": 13,
   "id": "cac6be4b-1399-4c64-9cd7-201d277daaa1",
   "metadata": {},
   "outputs": [
    {
     "name": "stdin",
     "output_type": "stream",
     "text": [
      "enter the length of rectangle 4\n",
      "enter the width of rectangel 5\n"
     ]
    },
    {
     "name": "stdout",
     "output_type": "stream",
     "text": [
      "area of rectangle: 20\n"
     ]
    }
   ],
   "source": [
    "l= int(input('enter the length of rectangle'))\n",
    "w= int(input('enter the width of rectangel'))\n",
    "\n",
    "a= (l*w)\n",
    "print(f'area of rectangle: {a}')"
   ]
  },
  {
   "cell_type": "code",
   "execution_count": 14,
   "id": "d11a3984-723f-4d8d-a5ab-abf4c179936c",
   "metadata": {},
   "outputs": [
    {
     "data": {
      "text/plain": [
       "' 3.  Write a Python program that converts temperatures from Celsius to\\nFahrenheit. Take the temperature in Celsius as input, store it in a variable,\\nconvert it to Fahrenheit, and display the result.'"
      ]
     },
     "execution_count": 14,
     "metadata": {},
     "output_type": "execute_result"
    }
   ],
   "source": [
    "''' 3.  Write a Python program that converts temperatures from Celsius to\n",
    "Fahrenheit. Take the temperature in Celsius as input, store it in a variable,\n",
    "convert it to Fahrenheit, and display the result.'''"
   ]
  },
  {
   "cell_type": "code",
   "execution_count": 15,
   "id": "d87fbb31-6227-4ea1-8bb1-c99676cfee61",
   "metadata": {},
   "outputs": [
    {
     "name": "stdout",
     "output_type": "stream",
     "text": [
      "113.0\n"
     ]
    }
   ],
   "source": [
    "#T= Temprature in Celsius\n",
    "#F= Temprature in Fahrenheit\n",
    "#R= Result in Fahrenheit\n",
    "\n",
    "T= 45\n",
    "R= (T*9/5+32)\n",
    "\n",
    "print(f'{R}')\n"
   ]
  },
  {
   "cell_type": "code",
   "execution_count": 16,
   "id": "21d2a8a3-b5f9-46e4-8545-d89e2dc104ca",
   "metadata": {},
   "outputs": [
    {
     "data": {
      "text/plain": [
       "'4. Write a Python program that takes a string as input and prints the length of the string.'"
      ]
     },
     "execution_count": 16,
     "metadata": {},
     "output_type": "execute_result"
    }
   ],
   "source": [
    "'''4. Write a Python program that takes a string as input and prints the length of the string.'''"
   ]
  },
  {
   "cell_type": "code",
   "execution_count": 17,
   "id": "c124eb89-1f69-456b-b4ef-225610118a0e",
   "metadata": {},
   "outputs": [
    {
     "name": "stdin",
     "output_type": "stream",
     "text": [
      "please enter your name :  Vishal Vashisht\n"
     ]
    },
    {
     "name": "stdout",
     "output_type": "stream",
     "text": [
      "length of x string : 15\n"
     ]
    }
   ],
   "source": [
    "x= str(input('please enter your name : '))\n",
    "\n",
    "l= len(x)\n",
    "\n",
    "print(f'length of x string : {l}')"
   ]
  },
  {
   "cell_type": "code",
   "execution_count": 20,
   "id": "da2f3c6e-eef2-459a-96ff-d147bb3f7d16",
   "metadata": {},
   "outputs": [
    {
     "data": {
      "text/plain": [
       "'5. Create a program that takes a sentence from the user and counts the number of vowels (a, e, i, o, u) in the string.'"
      ]
     },
     "execution_count": 20,
     "metadata": {},
     "output_type": "execute_result"
    }
   ],
   "source": [
    "'''5. Create a program that takes a sentence from the user and counts the number of vowels (a, e, i, o, u) in the string.'''"
   ]
  },
  {
   "cell_type": "code",
   "execution_count": 31,
   "id": "9cd014a5-b8e4-42b7-904a-7dcb4d26c142",
   "metadata": {},
   "outputs": [
    {
     "name": "stdin",
     "output_type": "stream",
     "text": [
      "text:  Hi this is a python basic Assignment\n"
     ]
    },
    {
     "name": "stdout",
     "output_type": "stream",
     "text": [
      "10\n"
     ]
    }
   ],
   "source": [
    "x= str(input('text: '))\n",
    "v= 'aeiouAEIOU'\n",
    "\n",
    "c = sum(x.count(vowel) for vowel in v)\n",
    "#c= count of vowels\n",
    "print(c)\n"
   ]
  },
  {
   "cell_type": "code",
   "execution_count": 21,
   "id": "12e4018f-8e28-4ba6-b649-a40bd65f3820",
   "metadata": {},
   "outputs": [
    {
     "data": {
      "text/plain": [
       "'6. Given a string, reverse the order of characters using string slicing and print the reversed string.'"
      ]
     },
     "execution_count": 21,
     "metadata": {},
     "output_type": "execute_result"
    }
   ],
   "source": [
    "'''6. Given a string, reverse the order of characters using string slicing and print the reversed string.'''"
   ]
  },
  {
   "cell_type": "code",
   "execution_count": 33,
   "id": "0c831968-d798-4fc5-8d52-f6b0c037e397",
   "metadata": {},
   "outputs": [
    {
     "name": "stdout",
     "output_type": "stream",
     "text": [
      "thsihsaV lahsiV si siht ,dlroW olleH\n"
     ]
    }
   ],
   "source": [
    "x= 'Hello World, this is Vishal Vashisht'\n",
    "\n",
    "y= x[::-1]\n",
    "\n",
    "print(f'{y}')"
   ]
  },
  {
   "cell_type": "code",
   "execution_count": 23,
   "id": "f9311f22-ccd9-4a55-a7c2-45ebe1a03576",
   "metadata": {},
   "outputs": [
    {
     "data": {
      "text/plain": [
       "'7. Write a program that takes a string as input and checks if it is a palindrome\\n(reads the same forwards and backwards).'"
      ]
     },
     "execution_count": 23,
     "metadata": {},
     "output_type": "execute_result"
    }
   ],
   "source": [
    "'''7. Write a program that takes a string as input and checks if it is a palindrome\n",
    "(reads the same forwards and backwards).'''"
   ]
  },
  {
   "cell_type": "code",
   "execution_count": 34,
   "id": "8822f7f2-67a7-4915-8fd7-fefeab8f2bc3",
   "metadata": {},
   "outputs": [
    {
     "name": "stdout",
     "output_type": "stream",
     "text": [
      "Yes\n"
     ]
    }
   ],
   "source": [
    "#function which return reverse of a string\n",
    "\n",
    "x = \"madam\"\n",
    "w = \"\"\n",
    "for i in x:\n",
    "    w = i + w\n",
    " \n",
    "if (x == w):\n",
    "    print(\"Yes\")\n",
    "else:\n",
    "    print(\"No\")"
   ]
  },
  {
   "cell_type": "code",
   "execution_count": 25,
   "id": "71e7237b-5a22-44d0-8f63-87c6dd222757",
   "metadata": {},
   "outputs": [
    {
     "data": {
      "text/plain": [
       "' 8. Create a program that takes a string as input and removes all the spaces from\\nit. Print the modified string without spaces.'"
      ]
     },
     "execution_count": 25,
     "metadata": {},
     "output_type": "execute_result"
    }
   ],
   "source": [
    "''' 8. Create a program that takes a string as input and removes all the spaces from\n",
    "it. Print the modified string without spaces.'''"
   ]
  },
  {
   "cell_type": "code",
   "execution_count": 26,
   "id": "5c12eed2-ff8e-4a09-9e60-5456dd4fcd1f",
   "metadata": {},
   "outputs": [],
   "source": [
    "def removespace(a):\n",
    "    a= a.replace(' ','')\n",
    "    return a\n",
    "    print(removespace(a))"
   ]
  },
  {
   "cell_type": "code",
   "execution_count": 27,
   "id": "bbe234c2-d3a7-4f2c-bafb-141d1667c70f",
   "metadata": {},
   "outputs": [
    {
     "data": {
      "text/plain": [
       "'vishalvashisht'"
      ]
     },
     "execution_count": 27,
     "metadata": {},
     "output_type": "execute_result"
    }
   ],
   "source": [
    "removespace('vishal vashisht')"
   ]
  },
  {
   "cell_type": "code",
   "execution_count": null,
   "id": "3dd27904-50b5-458b-92a2-4730a439a673",
   "metadata": {},
   "outputs": [],
   "source": []
  }
 ],
 "metadata": {
  "kernelspec": {
   "display_name": "Python 3 (ipykernel)",
   "language": "python",
   "name": "python3"
  },
  "language_info": {
   "codemirror_mode": {
    "name": "ipython",
    "version": 3
   },
   "file_extension": ".py",
   "mimetype": "text/x-python",
   "name": "python",
   "nbconvert_exporter": "python",
   "pygments_lexer": "ipython3",
   "version": "3.10.8"
  }
 },
 "nbformat": 4,
 "nbformat_minor": 5
}
